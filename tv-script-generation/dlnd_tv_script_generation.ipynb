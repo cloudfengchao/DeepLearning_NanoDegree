{
 "cells": [
  {
   "cell_type": "markdown",
   "metadata": {},
   "source": [
    "# TV Script Generation\n",
    "In this project, you'll generate your own [Simpsons](https://en.wikipedia.org/wiki/The_Simpsons) TV scripts using RNNs.  You'll be using part of the [Simpsons dataset](https://www.kaggle.com/wcukierski/the-simpsons-by-the-data) of scripts from 27 seasons.  The Neural Network you'll build will generate a new TV script for a scene at [Moe's Tavern](https://simpsonswiki.com/wiki/Moe's_Tavern).\n",
    "## Get the Data\n",
    "The data is already provided for you.  You'll be using a subset of the original dataset.  It consists of only the scenes in Moe's Tavern.  This doesn't include other versions of the tavern, like \"Moe's Cavern\", \"Flaming Moe's\", \"Uncle Moe's Family Feed-Bag\", etc.."
   ]
  },
  {
   "cell_type": "code",
   "execution_count": 1,
   "metadata": {
    "collapsed": true
   },
   "outputs": [],
   "source": [
    "\"\"\"\n",
    "DON'T MODIFY ANYTHING IN THIS CELL\n",
    "\"\"\"\n",
    "import helper\n",
    "\n",
    "data_dir = './data/simpsons/moes_tavern_lines.txt'\n",
    "text = helper.load_data(data_dir)\n",
    "# Ignore notice, since we don't use it for analysing the data\n",
    "text = text[81:]"
   ]
  },
  {
   "cell_type": "markdown",
   "metadata": {},
   "source": [
    "## Explore the Data\n",
    "Play around with `view_sentence_range` to view different parts of the data."
   ]
  },
  {
   "cell_type": "code",
   "execution_count": 2,
   "metadata": {},
   "outputs": [
    {
     "name": "stdout",
     "output_type": "stream",
     "text": [
      "Dataset Stats\n",
      "Roughly the number of unique words: 11492\n",
      "Number of scenes: 262\n",
      "Average number of sentences in each scene: 15.248091603053435\n",
      "Number of lines: 4257\n",
      "Average number of words in each line: 11.50434578341555\n",
      "\n",
      "The sentences 0 to 10:\n",
      "Moe_Szyslak: (INTO PHONE) Moe's Tavern. Where the elite meet to drink.\n",
      "Bart_Simpson: Eh, yeah, hello, is Mike there? Last name, Rotch.\n",
      "Moe_Szyslak: (INTO PHONE) Hold on, I'll check. (TO BARFLIES) Mike Rotch. Mike Rotch. Hey, has anybody seen Mike Rotch, lately?\n",
      "Moe_Szyslak: (INTO PHONE) Listen you little puke. One of these days I'm gonna catch you, and I'm gonna carve my name on your back with an ice pick.\n",
      "Moe_Szyslak: What's the matter Homer? You're not your normal effervescent self.\n",
      "Homer_Simpson: I got my problems, Moe. Give me another one.\n",
      "Moe_Szyslak: Homer, hey, you should not drink to forget your problems.\n",
      "Barney_Gumble: Yeah, you should only drink to enhance your social skills.\n",
      "\n",
      "\n"
     ]
    }
   ],
   "source": [
    "view_sentence_range = (0, 10)\n",
    "\n",
    "\"\"\"\n",
    "DON'T MODIFY ANYTHING IN THIS CELL\n",
    "\"\"\"\n",
    "import numpy as np\n",
    "\n",
    "print('Dataset Stats')\n",
    "print('Roughly the number of unique words: {}'.format(len({word: None for word in text.split()})))\n",
    "scenes = text.split('\\n\\n')\n",
    "print('Number of scenes: {}'.format(len(scenes)))\n",
    "sentence_count_scene = [scene.count('\\n') for scene in scenes]\n",
    "print('Average number of sentences in each scene: {}'.format(np.average(sentence_count_scene)))\n",
    "\n",
    "sentences = [sentence for scene in scenes for sentence in scene.split('\\n')]\n",
    "print('Number of lines: {}'.format(len(sentences)))\n",
    "word_count_sentence = [len(sentence.split()) for sentence in sentences]\n",
    "print('Average number of words in each line: {}'.format(np.average(word_count_sentence)))\n",
    "\n",
    "print()\n",
    "print('The sentences {} to {}:'.format(*view_sentence_range))\n",
    "print('\\n'.join(text.split('\\n')[view_sentence_range[0]:view_sentence_range[1]]))"
   ]
  },
  {
   "cell_type": "markdown",
   "metadata": {},
   "source": [
    "## Implement Preprocessing Functions\n",
    "The first thing to do to any dataset is preprocessing.  Implement the following preprocessing functions below:\n",
    "- Lookup Table\n",
    "- Tokenize Punctuation\n",
    "\n",
    "### Lookup Table\n",
    "To create a word embedding, you first need to transform the words to ids.  In this function, create two dictionaries:\n",
    "- Dictionary to go from the words to an id, we'll call `vocab_to_int`\n",
    "- Dictionary to go from the id to word, we'll call `int_to_vocab`\n",
    "\n",
    "Return these dictionaries in the following tuple `(vocab_to_int, int_to_vocab)`"
   ]
  },
  {
   "cell_type": "code",
   "execution_count": 3,
   "metadata": {},
   "outputs": [
    {
     "name": "stdout",
     "output_type": "stream",
     "text": [
      "Tests Passed\n"
     ]
    }
   ],
   "source": [
    "import numpy as np\n",
    "import problem_unittests as tests\n",
    "\n",
    "def create_lookup_tables(text):\n",
    "    \"\"\"\n",
    "    Create lookup tables for vocabulary\n",
    "    :param text: The text of tv scripts split into words\n",
    "    :return: A tuple of dicts (vocab_to_int, int_to_vocab)\n",
    "    \"\"\"\n",
    "    # TODO: Implement Function\n",
    "    vocab=set()\n",
    "    for t in text:\n",
    "        vocab.add(t)\n",
    "    vocab_to_int = {i:j for i,j in zip(vocab,range(len(vocab)))}\n",
    "    int_to_vocab = {v:k for k,v in vocab_to_int.items()}\n",
    "    return vocab_to_int,int_to_vocab\n",
    "\n",
    "\n",
    "\"\"\"\n",
    "DON'T MODIFY ANYTHING IN THIS CELL THAT IS BELOW THIS LINE\n",
    "\"\"\"\n",
    "tests.test_create_lookup_tables(create_lookup_tables)"
   ]
  },
  {
   "cell_type": "markdown",
   "metadata": {},
   "source": [
    "### Tokenize Punctuation\n",
    "We'll be splitting the script into a word array using spaces as delimiters.  However, punctuations like periods and exclamation marks make it hard for the neural network to distinguish between the word \"bye\" and \"bye!\".\n",
    "\n",
    "Implement the function `token_lookup` to return a dict that will be used to tokenize symbols like \"!\" into \"||Exclamation_Mark||\".  Create a dictionary for the following symbols where the symbol is the key and value is the token:\n",
    "- Period ( . )\n",
    "- Comma ( , )\n",
    "- Quotation Mark ( \" )\n",
    "- Semicolon ( ; )\n",
    "- Exclamation mark ( ! )\n",
    "- Question mark ( ? )\n",
    "- Left Parentheses ( ( )\n",
    "- Right Parentheses ( ) )\n",
    "- Dash ( -- )\n",
    "- Return ( \\n )\n",
    "\n",
    "This dictionary will be used to token the symbols and add the delimiter (space) around it.  This separates the symbols as it's own word, making it easier for the neural network to predict on the next word. Make sure you don't use a token that could be confused as a word. Instead of using the token \"dash\", try using something like \"||dash||\"."
   ]
  },
  {
   "cell_type": "code",
   "execution_count": 4,
   "metadata": {},
   "outputs": [
    {
     "name": "stdout",
     "output_type": "stream",
     "text": [
      "Tests Passed\n"
     ]
    }
   ],
   "source": [
    "def token_lookup():\n",
    "    \"\"\"\n",
    "    Generate a dict to turn punctuation into a token.\n",
    "    :return: Tokenize dictionary where the key is the punctuation and the value is the token\n",
    "    \"\"\"\n",
    "    # TODO: Implement Function\n",
    "    token_dict = {}\n",
    "    token_dict['.']='||Period||'\n",
    "    token_dict[',']='||Comma||'\n",
    "    token_dict['\"']='||Quotation_Mark||'\n",
    "    token_dict[';']='||Semicolon||'\n",
    "    token_dict['!']='||Exclamation_Mark||'\n",
    "    token_dict['?']='||Question_Mark||'\n",
    "    token_dict['(']='||Left_Parentheses||'\n",
    "    token_dict[')']='||Right_Parentheses||'\n",
    "    token_dict['--']='||Dash||'\n",
    "    token_dict['\\n']='||Return||'\n",
    "    return token_dict\n",
    "\n",
    "\"\"\"\n",
    "DON'T MODIFY ANYTHING IN THIS CELL THAT IS BELOW THIS LINE\n",
    "\"\"\"\n",
    "tests.test_tokenize(token_lookup)"
   ]
  },
  {
   "cell_type": "markdown",
   "metadata": {},
   "source": [
    "## Preprocess all the data and save it\n",
    "Running the code cell below will preprocess all the data and save it to file."
   ]
  },
  {
   "cell_type": "code",
   "execution_count": 5,
   "metadata": {
    "collapsed": true
   },
   "outputs": [],
   "source": [
    "\"\"\"\n",
    "DON'T MODIFY ANYTHING IN THIS CELL\n",
    "\"\"\"\n",
    "# Preprocess Training, Validation, and Testing Data\n",
    "helper.preprocess_and_save_data(data_dir, token_lookup, create_lookup_tables)"
   ]
  },
  {
   "cell_type": "markdown",
   "metadata": {},
   "source": [
    "# Check Point\n",
    "This is your first checkpoint. If you ever decide to come back to this notebook or have to restart the notebook, you can start from here. The preprocessed data has been saved to disk."
   ]
  },
  {
   "cell_type": "code",
   "execution_count": 6,
   "metadata": {
    "collapsed": true
   },
   "outputs": [],
   "source": [
    "\"\"\"\n",
    "DON'T MODIFY ANYTHING IN THIS CELL\n",
    "\"\"\"\n",
    "import helper\n",
    "import numpy as np\n",
    "import problem_unittests as tests\n",
    "\n",
    "int_text, vocab_to_int, int_to_vocab, token_dict = helper.load_preprocess()"
   ]
  },
  {
   "cell_type": "markdown",
   "metadata": {},
   "source": [
    "## Build the Neural Network\n",
    "You'll build the components necessary to build a RNN by implementing the following functions below:\n",
    "- get_inputs\n",
    "- get_init_cell\n",
    "- get_embed\n",
    "- build_rnn\n",
    "- build_nn\n",
    "- get_batches\n",
    "\n",
    "### Check the Version of TensorFlow and Access to GPU"
   ]
  },
  {
   "cell_type": "code",
   "execution_count": 7,
   "metadata": {},
   "outputs": [
    {
     "name": "stdout",
     "output_type": "stream",
     "text": [
      "TensorFlow Version: 1.1.0\n",
      "Default GPU Device: /gpu:0\n"
     ]
    }
   ],
   "source": [
    "\"\"\"\n",
    "DON'T MODIFY ANYTHING IN THIS CELL\n",
    "\"\"\"\n",
    "from distutils.version import LooseVersion\n",
    "import warnings\n",
    "import tensorflow as tf\n",
    "\n",
    "# Check TensorFlow Version\n",
    "assert LooseVersion(tf.__version__) >= LooseVersion('1.0'), 'Please use TensorFlow version 1.0 or newer'\n",
    "print('TensorFlow Version: {}'.format(tf.__version__))\n",
    "\n",
    "# Check for a GPU\n",
    "if not tf.test.gpu_device_name():\n",
    "    warnings.warn('No GPU found. Please use a GPU to train your neural network.')\n",
    "else:\n",
    "    print('Default GPU Device: {}'.format(tf.test.gpu_device_name()))"
   ]
  },
  {
   "cell_type": "markdown",
   "metadata": {},
   "source": [
    "### Input\n",
    "Implement the `get_inputs()` function to create TF Placeholders for the Neural Network.  It should create the following placeholders:\n",
    "- Input text placeholder named \"input\" using the [TF Placeholder](https://www.tensorflow.org/api_docs/python/tf/placeholder) `name` parameter.\n",
    "- Targets placeholder\n",
    "- Learning Rate placeholder\n",
    "\n",
    "Return the placeholders in the following tuple `(Input, Targets, LearningRate)`"
   ]
  },
  {
   "cell_type": "code",
   "execution_count": 8,
   "metadata": {},
   "outputs": [
    {
     "name": "stdout",
     "output_type": "stream",
     "text": [
      "Tests Passed\n"
     ]
    }
   ],
   "source": [
    "def get_inputs():\n",
    "    \"\"\"\n",
    "    Create TF Placeholders for input, targets, and learning rate.\n",
    "    :return: Tuple (input, targets, learning rate)\n",
    "    \"\"\"\n",
    "    # TODO: Implement Function\n",
    "    Input = tf.placeholder(shape=[None,None],dtype=tf.int32,name='input')\n",
    "    Targets = tf.placeholder(shape=[None,None],dtype=tf.int32,name='targets')\n",
    "    lr = tf.placeholder(dtype=tf.float32,name='lr')\n",
    "    return Input,Targets,lr\n",
    "\n",
    "\n",
    "\"\"\"\n",
    "DON'T MODIFY ANYTHING IN THIS CELL THAT IS BELOW THIS LINE\n",
    "\"\"\"\n",
    "tests.test_get_inputs(get_inputs)"
   ]
  },
  {
   "cell_type": "markdown",
   "metadata": {},
   "source": [
    "### Build RNN Cell and Initialize\n",
    "Stack one or more [`BasicLSTMCells`](https://www.tensorflow.org/api_docs/python/tf/contrib/rnn/BasicLSTMCell) in a [`MultiRNNCell`](https://www.tensorflow.org/api_docs/python/tf/contrib/rnn/MultiRNNCell).\n",
    "- The Rnn size should be set using `rnn_size`\n",
    "- Initalize Cell State using the MultiRNNCell's [`zero_state()`](https://www.tensorflow.org/api_docs/python/tf/contrib/rnn/MultiRNNCell#zero_state) function\n",
    "    - Apply the name \"initial_state\" to the initial state using [`tf.identity()`](https://www.tensorflow.org/api_docs/python/tf/identity)\n",
    "\n",
    "Return the cell and initial state in the following tuple `(Cell, InitialState)`"
   ]
  },
  {
   "cell_type": "code",
   "execution_count": 46,
   "metadata": {},
   "outputs": [
    {
     "name": "stdout",
     "output_type": "stream",
     "text": [
      "Tests Passed\n"
     ]
    }
   ],
   "source": [
    "def get_init_cell(batch_size, rnn_size):\n",
    "    \"\"\"\n",
    "    Create an RNN Cell and initialize it.\n",
    "    :param batch_size: Size of batches\n",
    "    :param rnn_size: Size of RNNs\n",
    "    :return: Tuple (cell, initialize state)\n",
    "    \"\"\"\n",
    "    num_layers = 2\n",
    "    # TODO: Implement Function\n",
    "    def lstmCell():\n",
    "        lstm = tf.contrib.rnn.BasicLSTMCell(rnn_size)\n",
    "        return lstm\n",
    "    cell = tf.contrib.rnn.MultiRNNCell([lstmCell() for _ in range(num_layers)])\n",
    "    initial_state = cell.zero_state(batch_size,tf.float32)\n",
    "    initial_state = tf.identity(initial_state,name='initial_state')\n",
    "    return cell,initial_state\n",
    "\n",
    "\n",
    "\"\"\"\n",
    "DON'T MODIFY ANYTHING IN THIS CELL THAT IS BELOW THIS LINE\n",
    "\"\"\"\n",
    "tests.test_get_init_cell(get_init_cell)"
   ]
  },
  {
   "cell_type": "markdown",
   "metadata": {},
   "source": [
    "### Word Embedding\n",
    "Apply embedding to `input_data` using TensorFlow.  Return the embedded sequence."
   ]
  },
  {
   "cell_type": "code",
   "execution_count": 47,
   "metadata": {},
   "outputs": [
    {
     "name": "stdout",
     "output_type": "stream",
     "text": [
      "Tests Passed\n"
     ]
    }
   ],
   "source": [
    "def get_embed(input_data, vocab_size, embed_dim):\n",
    "    \"\"\"\n",
    "    Create embedding for <input_data>.\n",
    "    :param input_data: TF placeholder for text input.\n",
    "    :param vocab_size: Number of words in vocabulary.\n",
    "    :param embed_dim: Number of embedding dimensions\n",
    "    :return: Embedded input.\n",
    "    \"\"\"\n",
    "    # TODO: Implement Function\n",
    "    embedding = tf.Variable(tf.random_uniform((vocab_size,embed_dim),-1,1))\n",
    "    return tf.nn.embedding_lookup(embedding,input_data)\n",
    "\n",
    "\n",
    "\"\"\"\n",
    "DON'T MODIFY ANYTHING IN THIS CELL THAT IS BELOW THIS LINE\n",
    "\"\"\"\n",
    "tests.test_get_embed(get_embed)"
   ]
  },
  {
   "cell_type": "markdown",
   "metadata": {},
   "source": [
    "### Build RNN\n",
    "You created a RNN Cell in the `get_init_cell()` function.  Time to use the cell to create a RNN.\n",
    "- Build the RNN using the [`tf.nn.dynamic_rnn()`](https://www.tensorflow.org/api_docs/python/tf/nn/dynamic_rnn)\n",
    " - Apply the name \"final_state\" to the final state using [`tf.identity()`](https://www.tensorflow.org/api_docs/python/tf/identity)\n",
    "\n",
    "Return the outputs and final_state state in the following tuple `(Outputs, FinalState)` "
   ]
  },
  {
   "cell_type": "code",
   "execution_count": 48,
   "metadata": {},
   "outputs": [
    {
     "name": "stdout",
     "output_type": "stream",
     "text": [
      "Tests Passed\n"
     ]
    }
   ],
   "source": [
    "def build_rnn(cell, inputs):\n",
    "    \"\"\"\n",
    "    Create a RNN using a RNN Cell\n",
    "    :param cell: RNN Cell\n",
    "    :param inputs: Input text data\n",
    "    :return: Tuple (Outputs, Final State)\n",
    "    \"\"\"\n",
    "    # TODO: Implement Function\n",
    "    outputs,final_state = tf.nn.dynamic_rnn(cell,inputs,dtype=tf.float32)\n",
    "    final_state = tf.identity(final_state,name='final_state')\n",
    "    return outputs,final_state\n",
    "\n",
    "    \n",
    "\n",
    "\n",
    "\"\"\"\n",
    "DON'T MODIFY ANYTHING IN THIS CELL THAT IS BELOW THIS LINE\n",
    "\"\"\"\n",
    "tests.test_build_rnn(build_rnn)"
   ]
  },
  {
   "cell_type": "markdown",
   "metadata": {},
   "source": [
    "### Build the Neural Network\n",
    "Apply the functions you implemented above to:\n",
    "- Apply embedding to `input_data` using your `get_embed(input_data, vocab_size, embed_dim)` function.\n",
    "- Build RNN using `cell` and your `build_rnn(cell, inputs)` function.\n",
    "- Apply a fully connected layer with a linear activation and `vocab_size` as the number of outputs.\n",
    "\n",
    "Return the logits and final state in the following tuple (Logits, FinalState) "
   ]
  },
  {
   "cell_type": "code",
   "execution_count": 49,
   "metadata": {},
   "outputs": [
    {
     "name": "stdout",
     "output_type": "stream",
     "text": [
      "Tests Passed\n"
     ]
    }
   ],
   "source": [
    "def build_nn(cell, rnn_size, input_data, vocab_size, embed_dim):\n",
    "    \"\"\"\n",
    "    Build part of the neural network\n",
    "    :param cell: RNN cell\n",
    "    :param rnn_size: Size of rnns\n",
    "    :param input_data: Input data\n",
    "    :param vocab_size: Vocabulary size\n",
    "    :param embed_dim: Number of embedding dimensions\n",
    "    :return: Tuple (Logits, FinalState)\n",
    "    \"\"\"\n",
    "    # TODO: Implement Function\n",
    "    input_shapes = tf.shape(input_data)\n",
    "    embedded = get_embed(input_data, vocab_size, embed_dim)\n",
    "    cell,init_state = get_init_cell(input_shapes[0],rnn_size)\n",
    "    outputs,final_state = build_rnn(cell,embedded)\n",
    "    \n",
    "    logits = tf.contrib.layers.fully_connected(outputs, vocab_size,activation_fn=None)\n",
    "    #fc_w = tf.Variable(tf.truncated_normal([rnn_size,vocab_size],0.1))\n",
    "    #fc_b = tf.Variable(tf.zeros(vocab_size))\n",
    "    #outputs_shape = tf.shape(outputs)\n",
    "    #outputs = tf.reshape(outputs,shape=[-1,rnn_size])\n",
    "    #logits = tf.matmul(outputs,fc_w)+fc_b\n",
    "    #logits = tf.reshape(logits,shape=[-1,outputs_shape[1],vocab_size])\n",
    "    \n",
    "    return logits,final_state\n",
    "\n",
    "\n",
    "\"\"\"\n",
    "DON'T MODIFY ANYTHING IN THIS CELL THAT IS BELOW THIS LINE\n",
    "\"\"\"\n",
    "tests.test_build_nn(build_nn)"
   ]
  },
  {
   "cell_type": "markdown",
   "metadata": {},
   "source": [
    "### Batches\n",
    "Implement `get_batches` to create batches of input and targets using `int_text`.  The batches should be a Numpy array with the shape `(number of batches, 2, batch size, sequence length)`. Each batch contains two elements:\n",
    "- The first element is a single batch of **input** with the shape `[batch size, sequence length]`\n",
    "- The second element is a single batch of **targets** with the shape `[batch size, sequence length]`\n",
    "\n",
    "If you can't fill the last batch with enough data, drop the last batch.\n",
    "\n",
    "For exmple, `get_batches([1, 2, 3, 4, 5, 6, 7, 8, 9, 10, 11, 12, 13, 14, 15], 2, 3)` would return a Numpy array of the following:\n",
    "```\n",
    "[\n",
    "  # First Batch\n",
    "  [\n",
    "    # Batch of Input\n",
    "    [[ 1  2  3], [ 7  8  9]],\n",
    "    # Batch of targets\n",
    "    [[ 2  3  4], [ 8  9 10]]\n",
    "  ],\n",
    " \n",
    "  # Second Batch\n",
    "  [\n",
    "    # Batch of Input\n",
    "    [[ 4  5  6], [10 11 12]],\n",
    "    # Batch of targets\n",
    "    [[ 5  6  7], [11 12 13]]\n",
    "  ]\n",
    "]\n",
    "```"
   ]
  },
  {
   "cell_type": "code",
   "execution_count": 50,
   "metadata": {},
   "outputs": [
    {
     "name": "stdout",
     "output_type": "stream",
     "text": [
      "Tests Passed\n"
     ]
    }
   ],
   "source": [
    "def get_batches(int_text, batch_size, seq_length):\n",
    "    \"\"\"\n",
    "    Return batches of input and target\n",
    "    :param int_text: Text with the words replaced by their ids\n",
    "    :param batch_size: The size of batch\n",
    "    :param seq_length: The length of sequence\n",
    "    :return: Batches as a Numpy array\n",
    "    \"\"\"\n",
    "    # TODO: Implement Function\n",
    "    targets = int_text[1:]\n",
    "    inputs = int_text[:-1]\n",
    "    \n",
    "    num_words_per_batch = batch_size*seq_length\n",
    "    num_batches = int(len(inputs)//num_words_per_batch)\n",
    "    inputs = inputs[:num_batches*num_words_per_batch]\n",
    "    targets = targets[:num_batches*num_words_per_batch]\n",
    "    \n",
    "    # reshape input array into batch_size sequences\n",
    "    input_seqs = np.array(inputs).reshape([batch_size,-1])\n",
    "    target_seqs = np.array(targets).reshape([batch_size,-1])\n",
    "    \n",
    "    out_array = []\n",
    "    for batchN in range(num_batches):\n",
    "        x = input_seqs[:,batchN*seq_length:(batchN+1)*seq_length]\n",
    "        y = target_seqs[:,batchN*seq_length:(batchN+1)*seq_length]\n",
    "        out_array.append([x,y])\n",
    "    return np.array(out_array)\n",
    "\n",
    "\"\"\"\n",
    "DON'T MODIFY ANYTHING IN THIS CELL THAT IS BELOW THIS LINE\n",
    "\"\"\"\n",
    "tests.test_get_batches(get_batches)"
   ]
  },
  {
   "cell_type": "markdown",
   "metadata": {},
   "source": [
    "## Neural Network Training\n",
    "### Hyperparameters\n",
    "Tune the following parameters:\n",
    "\n",
    "- Set `num_epochs` to the number of epochs.\n",
    "- Set `batch_size` to the batch size.\n",
    "- Set `rnn_size` to the size of the RNNs.\n",
    "- Set `embed_dim` to the size of the embedding.\n",
    "- Set `seq_length` to the length of sequence.\n",
    "- Set `learning_rate` to the learning rate.\n",
    "- Set `show_every_n_batches` to the number of batches the neural network should print progress."
   ]
  },
  {
   "cell_type": "code",
   "execution_count": 53,
   "metadata": {
    "collapsed": true
   },
   "outputs": [],
   "source": [
    "# Number of Epochs\n",
    "num_epochs = 1000\n",
    "# Batch Size\n",
    "batch_size = 128\n",
    "# RNN Size\n",
    "rnn_size = 200\n",
    "# Embedding Dimension Size\n",
    "embed_dim = 200\n",
    "# Sequence Length\n",
    "seq_length = 128\n",
    "# Learning Rate\n",
    "learning_rate = 0.001\n",
    "# Show stats for every n number of batches\n",
    "show_every_n_batches = 10\n",
    "\n",
    "\"\"\"\n",
    "DON'T MODIFY ANYTHING IN THIS CELL THAT IS BELOW THIS LINE\n",
    "\"\"\"\n",
    "save_dir = './save'"
   ]
  },
  {
   "cell_type": "markdown",
   "metadata": {},
   "source": [
    "### Build the Graph\n",
    "Build the graph using the neural network you implemented."
   ]
  },
  {
   "cell_type": "code",
   "execution_count": 54,
   "metadata": {
    "collapsed": true
   },
   "outputs": [],
   "source": [
    "\"\"\"\n",
    "DON'T MODIFY ANYTHING IN THIS CELL\n",
    "\"\"\"\n",
    "from tensorflow.contrib import seq2seq\n",
    "\n",
    "train_graph = tf.Graph()\n",
    "with train_graph.as_default():\n",
    "    vocab_size = len(int_to_vocab)\n",
    "    input_text, targets, lr = get_inputs()\n",
    "    input_data_shape = tf.shape(input_text)\n",
    "    cell, initial_state = get_init_cell(input_data_shape[0], rnn_size)\n",
    "    logits, final_state = build_nn(cell, rnn_size, input_text, vocab_size, embed_dim)\n",
    "\n",
    "    # Probabilities for generating words\n",
    "    probs = tf.nn.softmax(logits, name='probs')\n",
    "\n",
    "    # Loss function\n",
    "    cost = seq2seq.sequence_loss(\n",
    "        logits,\n",
    "        targets,\n",
    "        tf.ones([input_data_shape[0], input_data_shape[1]]))\n",
    "\n",
    "    # Optimizer\n",
    "    optimizer = tf.train.AdamOptimizer(lr)\n",
    "\n",
    "    # Gradient Clipping\n",
    "    gradients = optimizer.compute_gradients(cost)\n",
    "    capped_gradients = [(tf.clip_by_value(grad, -1., 1.), var) for grad, var in gradients if grad is not None]\n",
    "    train_op = optimizer.apply_gradients(capped_gradients)"
   ]
  },
  {
   "cell_type": "markdown",
   "metadata": {},
   "source": [
    "## Train\n",
    "Train the neural network on the preprocessed data.  If you have a hard time getting a good loss, check the [forms](https://discussions.udacity.com/) to see if anyone is having the same problem."
   ]
  },
  {
   "cell_type": "code",
   "execution_count": 55,
   "metadata": {},
   "outputs": [
    {
     "name": "stdout",
     "output_type": "stream",
     "text": [
      "Epoch   0 Batch    0/4   train_loss = 8.821\n",
      "Epoch   2 Batch    2/4   train_loss = 7.201\n",
      "Epoch   5 Batch    0/4   train_loss = 6.016\n",
      "Epoch   7 Batch    2/4   train_loss = 6.045\n",
      "Epoch  10 Batch    0/4   train_loss = 5.933\n",
      "Epoch  12 Batch    2/4   train_loss = 5.955\n",
      "Epoch  15 Batch    0/4   train_loss = 5.907\n",
      "Epoch  17 Batch    2/4   train_loss = 5.945\n",
      "Epoch  20 Batch    0/4   train_loss = 5.900\n",
      "Epoch  22 Batch    2/4   train_loss = 5.941\n",
      "Epoch  25 Batch    0/4   train_loss = 5.897\n",
      "Epoch  27 Batch    2/4   train_loss = 5.938\n",
      "Epoch  30 Batch    0/4   train_loss = 5.894\n",
      "Epoch  32 Batch    2/4   train_loss = 5.935\n",
      "Epoch  35 Batch    0/4   train_loss = 5.893\n",
      "Epoch  37 Batch    2/4   train_loss = 5.933\n",
      "Epoch  40 Batch    0/4   train_loss = 5.891\n",
      "Epoch  42 Batch    2/4   train_loss = 5.932\n",
      "Epoch  45 Batch    0/4   train_loss = 5.889\n",
      "Epoch  47 Batch    2/4   train_loss = 5.930\n",
      "Epoch  50 Batch    0/4   train_loss = 5.888\n",
      "Epoch  52 Batch    2/4   train_loss = 5.928\n",
      "Epoch  55 Batch    0/4   train_loss = 5.885\n",
      "Epoch  57 Batch    2/4   train_loss = 5.924\n",
      "Epoch  60 Batch    0/4   train_loss = 5.877\n",
      "Epoch  62 Batch    2/4   train_loss = 5.912\n",
      "Epoch  65 Batch    0/4   train_loss = 5.858\n",
      "Epoch  67 Batch    2/4   train_loss = 5.887\n",
      "Epoch  70 Batch    0/4   train_loss = 5.829\n",
      "Epoch  72 Batch    2/4   train_loss = 5.857\n",
      "Epoch  75 Batch    0/4   train_loss = 5.798\n",
      "Epoch  77 Batch    2/4   train_loss = 5.827\n",
      "Epoch  80 Batch    0/4   train_loss = 5.769\n",
      "Epoch  82 Batch    2/4   train_loss = 5.801\n",
      "Epoch  85 Batch    0/4   train_loss = 5.742\n",
      "Epoch  87 Batch    2/4   train_loss = 5.774\n",
      "Epoch  90 Batch    0/4   train_loss = 5.713\n",
      "Epoch  92 Batch    2/4   train_loss = 5.745\n",
      "Epoch  95 Batch    0/4   train_loss = 5.683\n",
      "Epoch  97 Batch    2/4   train_loss = 5.716\n",
      "Epoch 100 Batch    0/4   train_loss = 5.656\n",
      "Epoch 102 Batch    2/4   train_loss = 5.690\n",
      "Epoch 105 Batch    0/4   train_loss = 5.631\n",
      "Epoch 107 Batch    2/4   train_loss = 5.666\n",
      "Epoch 110 Batch    0/4   train_loss = 5.608\n",
      "Epoch 112 Batch    2/4   train_loss = 5.644\n",
      "Epoch 115 Batch    0/4   train_loss = 5.588\n",
      "Epoch 117 Batch    2/4   train_loss = 5.625\n",
      "Epoch 120 Batch    0/4   train_loss = 5.569\n",
      "Epoch 122 Batch    2/4   train_loss = 5.608\n",
      "Epoch 125 Batch    0/4   train_loss = 5.552\n",
      "Epoch 127 Batch    2/4   train_loss = 5.591\n",
      "Epoch 130 Batch    0/4   train_loss = 5.534\n",
      "Epoch 132 Batch    2/4   train_loss = 5.574\n",
      "Epoch 135 Batch    0/4   train_loss = 5.518\n",
      "Epoch 137 Batch    2/4   train_loss = 5.558\n",
      "Epoch 140 Batch    0/4   train_loss = 5.501\n",
      "Epoch 142 Batch    2/4   train_loss = 5.539\n",
      "Epoch 145 Batch    0/4   train_loss = 5.481\n",
      "Epoch 147 Batch    2/4   train_loss = 5.517\n",
      "Epoch 150 Batch    0/4   train_loss = 5.455\n",
      "Epoch 152 Batch    2/4   train_loss = 5.485\n",
      "Epoch 155 Batch    0/4   train_loss = 5.413\n",
      "Epoch 157 Batch    2/4   train_loss = 5.432\n",
      "Epoch 160 Batch    0/4   train_loss = 5.352\n",
      "Epoch 162 Batch    2/4   train_loss = 5.364\n",
      "Epoch 165 Batch    0/4   train_loss = 5.280\n",
      "Epoch 167 Batch    2/4   train_loss = 5.291\n",
      "Epoch 170 Batch    0/4   train_loss = 5.206\n",
      "Epoch 172 Batch    2/4   train_loss = 5.211\n",
      "Epoch 175 Batch    0/4   train_loss = 5.111\n",
      "Epoch 177 Batch    2/4   train_loss = 5.098\n",
      "Epoch 180 Batch    0/4   train_loss = 4.993\n",
      "Epoch 182 Batch    2/4   train_loss = 4.988\n",
      "Epoch 185 Batch    0/4   train_loss = 4.897\n",
      "Epoch 187 Batch    2/4   train_loss = 4.899\n",
      "Epoch 190 Batch    0/4   train_loss = 4.819\n",
      "Epoch 192 Batch    2/4   train_loss = 4.825\n",
      "Epoch 195 Batch    0/4   train_loss = 4.749\n",
      "Epoch 197 Batch    2/4   train_loss = 4.756\n",
      "Epoch 200 Batch    0/4   train_loss = 4.685\n",
      "Epoch 202 Batch    2/4   train_loss = 4.695\n",
      "Epoch 205 Batch    0/4   train_loss = 4.630\n",
      "Epoch 207 Batch    2/4   train_loss = 4.633\n",
      "Epoch 210 Batch    0/4   train_loss = 4.569\n",
      "Epoch 212 Batch    2/4   train_loss = 4.575\n",
      "Epoch 215 Batch    0/4   train_loss = 4.517\n",
      "Epoch 217 Batch    2/4   train_loss = 4.532\n",
      "Epoch 220 Batch    0/4   train_loss = 4.474\n",
      "Epoch 222 Batch    2/4   train_loss = 4.476\n",
      "Epoch 225 Batch    0/4   train_loss = 4.423\n",
      "Epoch 227 Batch    2/4   train_loss = 4.432\n",
      "Epoch 230 Batch    0/4   train_loss = 4.382\n",
      "Epoch 232 Batch    2/4   train_loss = 4.394\n",
      "Epoch 235 Batch    0/4   train_loss = 4.343\n",
      "Epoch 237 Batch    2/4   train_loss = 4.347\n",
      "Epoch 240 Batch    0/4   train_loss = 4.295\n",
      "Epoch 242 Batch    2/4   train_loss = 4.305\n",
      "Epoch 245 Batch    0/4   train_loss = 4.261\n",
      "Epoch 247 Batch    2/4   train_loss = 4.278\n",
      "Epoch 250 Batch    0/4   train_loss = 4.219\n",
      "Epoch 252 Batch    2/4   train_loss = 4.227\n",
      "Epoch 255 Batch    0/4   train_loss = 4.179\n",
      "Epoch 257 Batch    2/4   train_loss = 4.189\n",
      "Epoch 260 Batch    0/4   train_loss = 4.144\n",
      "Epoch 262 Batch    2/4   train_loss = 4.159\n",
      "Epoch 265 Batch    0/4   train_loss = 4.109\n",
      "Epoch 267 Batch    2/4   train_loss = 4.112\n",
      "Epoch 270 Batch    0/4   train_loss = 4.063\n",
      "Epoch 272 Batch    2/4   train_loss = 4.075\n",
      "Epoch 275 Batch    0/4   train_loss = 4.034\n",
      "Epoch 277 Batch    2/4   train_loss = 4.057\n",
      "Epoch 280 Batch    0/4   train_loss = 3.990\n",
      "Epoch 282 Batch    2/4   train_loss = 4.000\n",
      "Epoch 285 Batch    0/4   train_loss = 3.952\n",
      "Epoch 287 Batch    2/4   train_loss = 3.964\n",
      "Epoch 290 Batch    0/4   train_loss = 3.925\n",
      "Epoch 292 Batch    2/4   train_loss = 3.936\n",
      "Epoch 295 Batch    0/4   train_loss = 3.877\n",
      "Epoch 297 Batch    2/4   train_loss = 3.884\n",
      "Epoch 300 Batch    0/4   train_loss = 3.839\n",
      "Epoch 302 Batch    2/4   train_loss = 3.854\n",
      "Epoch 305 Batch    0/4   train_loss = 3.814\n",
      "Epoch 307 Batch    2/4   train_loss = 3.825\n",
      "Epoch 310 Batch    0/4   train_loss = 3.762\n",
      "Epoch 312 Batch    2/4   train_loss = 3.769\n",
      "Epoch 315 Batch    0/4   train_loss = 3.723\n",
      "Epoch 317 Batch    2/4   train_loss = 3.734\n",
      "Epoch 320 Batch    0/4   train_loss = 3.702\n",
      "Epoch 322 Batch    2/4   train_loss = 3.711\n",
      "Epoch 325 Batch    0/4   train_loss = 3.651\n",
      "Epoch 327 Batch    2/4   train_loss = 3.661\n",
      "Epoch 330 Batch    0/4   train_loss = 3.620\n",
      "Epoch 332 Batch    2/4   train_loss = 3.645\n",
      "Epoch 335 Batch    0/4   train_loss = 3.585\n",
      "Epoch 337 Batch    2/4   train_loss = 3.586\n",
      "Epoch 340 Batch    0/4   train_loss = 3.542\n",
      "Epoch 342 Batch    2/4   train_loss = 3.549\n",
      "Epoch 345 Batch    0/4   train_loss = 3.511\n",
      "Epoch 347 Batch    2/4   train_loss = 3.526\n",
      "Epoch 350 Batch    0/4   train_loss = 3.490\n",
      "Epoch 352 Batch    2/4   train_loss = 3.488\n",
      "Epoch 355 Batch    0/4   train_loss = 3.435\n",
      "Epoch 357 Batch    2/4   train_loss = 3.440\n",
      "Epoch 360 Batch    0/4   train_loss = 3.403\n",
      "Epoch 362 Batch    2/4   train_loss = 3.418\n",
      "Epoch 365 Batch    0/4   train_loss = 3.395\n",
      "Epoch 367 Batch    2/4   train_loss = 3.375\n",
      "Epoch 370 Batch    0/4   train_loss = 3.333\n",
      "Epoch 372 Batch    2/4   train_loss = 3.338\n",
      "Epoch 375 Batch    0/4   train_loss = 3.297\n",
      "Epoch 377 Batch    2/4   train_loss = 3.312\n",
      "Epoch 380 Batch    0/4   train_loss = 3.281\n",
      "Epoch 382 Batch    2/4   train_loss = 3.289\n",
      "Epoch 385 Batch    0/4   train_loss = 3.228\n",
      "Epoch 387 Batch    2/4   train_loss = 3.234\n",
      "Epoch 390 Batch    0/4   train_loss = 3.193\n",
      "Epoch 392 Batch    2/4   train_loss = 3.206\n",
      "Epoch 395 Batch    0/4   train_loss = 3.195\n",
      "Epoch 397 Batch    2/4   train_loss = 3.198\n",
      "Epoch 400 Batch    0/4   train_loss = 3.137\n",
      "Epoch 402 Batch    2/4   train_loss = 3.137\n",
      "Epoch 405 Batch    0/4   train_loss = 3.098\n",
      "Epoch 407 Batch    2/4   train_loss = 3.103\n",
      "Epoch 410 Batch    0/4   train_loss = 3.074\n",
      "Epoch 412 Batch    2/4   train_loss = 3.108\n",
      "Epoch 415 Batch    0/4   train_loss = 3.055\n",
      "Epoch 417 Batch    2/4   train_loss = 3.049\n",
      "Epoch 420 Batch    0/4   train_loss = 3.003\n",
      "Epoch 422 Batch    2/4   train_loss = 3.003\n",
      "Epoch 425 Batch    0/4   train_loss = 2.966\n",
      "Epoch 427 Batch    2/4   train_loss = 2.975\n",
      "Epoch 430 Batch    0/4   train_loss = 2.945\n",
      "Epoch 432 Batch    2/4   train_loss = 2.967\n",
      "Epoch 435 Batch    0/4   train_loss = 2.937\n",
      "Epoch 437 Batch    2/4   train_loss = 2.929\n",
      "Epoch 440 Batch    0/4   train_loss = 2.884\n",
      "Epoch 442 Batch    2/4   train_loss = 2.887\n",
      "Epoch 445 Batch    0/4   train_loss = 2.855\n",
      "Epoch 447 Batch    2/4   train_loss = 2.862\n",
      "Epoch 450 Batch    0/4   train_loss = 2.825\n",
      "Epoch 452 Batch    2/4   train_loss = 2.836\n",
      "Epoch 455 Batch    0/4   train_loss = 2.807\n",
      "Epoch 457 Batch    2/4   train_loss = 2.806\n",
      "Epoch 460 Batch    0/4   train_loss = 2.768\n",
      "Epoch 462 Batch    2/4   train_loss = 2.778\n",
      "Epoch 465 Batch    0/4   train_loss = 2.738\n"
     ]
    },
    {
     "name": "stdout",
     "output_type": "stream",
     "text": [
      "Epoch 467 Batch    2/4   train_loss = 2.753\n",
      "Epoch 470 Batch    0/4   train_loss = 2.726\n",
      "Epoch 472 Batch    2/4   train_loss = 2.717\n",
      "Epoch 475 Batch    0/4   train_loss = 2.671\n",
      "Epoch 477 Batch    2/4   train_loss = 2.679\n",
      "Epoch 480 Batch    0/4   train_loss = 2.659\n",
      "Epoch 482 Batch    2/4   train_loss = 2.691\n",
      "Epoch 485 Batch    0/4   train_loss = 2.642\n",
      "Epoch 487 Batch    2/4   train_loss = 2.617\n",
      "Epoch 490 Batch    0/4   train_loss = 2.585\n",
      "Epoch 492 Batch    2/4   train_loss = 2.596\n",
      "Epoch 495 Batch    0/4   train_loss = 2.582\n",
      "Epoch 497 Batch    2/4   train_loss = 2.625\n",
      "Epoch 500 Batch    0/4   train_loss = 2.586\n",
      "Epoch 502 Batch    2/4   train_loss = 2.538\n",
      "Epoch 505 Batch    0/4   train_loss = 2.512\n",
      "Epoch 507 Batch    2/4   train_loss = 2.508\n",
      "Epoch 510 Batch    0/4   train_loss = 2.474\n",
      "Epoch 512 Batch    2/4   train_loss = 2.477\n",
      "Epoch 515 Batch    0/4   train_loss = 2.460\n",
      "Epoch 517 Batch    2/4   train_loss = 2.501\n",
      "Epoch 520 Batch    0/4   train_loss = 2.463\n",
      "Epoch 522 Batch    2/4   train_loss = 2.432\n",
      "Epoch 525 Batch    0/4   train_loss = 2.399\n",
      "Epoch 527 Batch    2/4   train_loss = 2.405\n",
      "Epoch 530 Batch    0/4   train_loss = 2.382\n",
      "Epoch 532 Batch    2/4   train_loss = 2.383\n",
      "Epoch 535 Batch    0/4   train_loss = 2.353\n",
      "Epoch 537 Batch    2/4   train_loss = 2.357\n",
      "Epoch 540 Batch    0/4   train_loss = 2.322\n",
      "Epoch 542 Batch    2/4   train_loss = 2.327\n",
      "Epoch 545 Batch    0/4   train_loss = 2.300\n",
      "Epoch 547 Batch    2/4   train_loss = 2.318\n",
      "Epoch 550 Batch    0/4   train_loss = 2.291\n",
      "Epoch 552 Batch    2/4   train_loss = 2.275\n",
      "Epoch 555 Batch    0/4   train_loss = 2.268\n",
      "Epoch 557 Batch    2/4   train_loss = 2.307\n",
      "Epoch 560 Batch    0/4   train_loss = 2.278\n",
      "Epoch 562 Batch    2/4   train_loss = 2.247\n",
      "Epoch 565 Batch    0/4   train_loss = 2.198\n",
      "Epoch 567 Batch    2/4   train_loss = 2.198\n",
      "Epoch 570 Batch    0/4   train_loss = 2.170\n",
      "Epoch 572 Batch    2/4   train_loss = 2.170\n",
      "Epoch 575 Batch    0/4   train_loss = 2.152\n",
      "Epoch 577 Batch    2/4   train_loss = 2.183\n",
      "Epoch 580 Batch    0/4   train_loss = 2.158\n",
      "Epoch 582 Batch    2/4   train_loss = 2.145\n",
      "Epoch 585 Batch    0/4   train_loss = 2.108\n",
      "Epoch 587 Batch    2/4   train_loss = 2.109\n",
      "Epoch 590 Batch    0/4   train_loss = 2.082\n",
      "Epoch 592 Batch    2/4   train_loss = 2.096\n",
      "Epoch 595 Batch    0/4   train_loss = 2.060\n",
      "Epoch 597 Batch    2/4   train_loss = 2.054\n",
      "Epoch 600 Batch    0/4   train_loss = 2.037\n",
      "Epoch 602 Batch    2/4   train_loss = 2.039\n",
      "Epoch 605 Batch    0/4   train_loss = 2.009\n",
      "Epoch 607 Batch    2/4   train_loss = 2.018\n",
      "Epoch 610 Batch    0/4   train_loss = 2.020\n",
      "Epoch 612 Batch    2/4   train_loss = 2.015\n",
      "Epoch 615 Batch    0/4   train_loss = 2.021\n",
      "Epoch 617 Batch    2/4   train_loss = 1.999\n",
      "Epoch 620 Batch    0/4   train_loss = 1.945\n",
      "Epoch 622 Batch    2/4   train_loss = 1.941\n",
      "Epoch 625 Batch    0/4   train_loss = 1.916\n",
      "Epoch 627 Batch    2/4   train_loss = 1.925\n",
      "Epoch 630 Batch    0/4   train_loss = 1.899\n",
      "Epoch 632 Batch    2/4   train_loss = 1.909\n",
      "Epoch 635 Batch    0/4   train_loss = 1.902\n",
      "Epoch 637 Batch    2/4   train_loss = 1.894\n",
      "Epoch 640 Batch    0/4   train_loss = 1.863\n",
      "Epoch 642 Batch    2/4   train_loss = 1.862\n",
      "Epoch 645 Batch    0/4   train_loss = 1.837\n",
      "Epoch 647 Batch    2/4   train_loss = 1.853\n",
      "Epoch 650 Batch    0/4   train_loss = 1.831\n",
      "Epoch 652 Batch    2/4   train_loss = 1.815\n",
      "Epoch 655 Batch    0/4   train_loss = 1.792\n",
      "Epoch 657 Batch    2/4   train_loss = 1.800\n",
      "Epoch 660 Batch    0/4   train_loss = 1.792\n",
      "Epoch 662 Batch    2/4   train_loss = 1.797\n",
      "Epoch 665 Batch    0/4   train_loss = 1.777\n",
      "Epoch 667 Batch    2/4   train_loss = 1.761\n",
      "Epoch 670 Batch    0/4   train_loss = 1.738\n",
      "Epoch 672 Batch    2/4   train_loss = 1.729\n",
      "Epoch 675 Batch    0/4   train_loss = 1.715\n",
      "Epoch 677 Batch    2/4   train_loss = 1.739\n",
      "Epoch 680 Batch    0/4   train_loss = 1.705\n",
      "Epoch 682 Batch    2/4   train_loss = 1.702\n",
      "Epoch 685 Batch    0/4   train_loss = 1.680\n",
      "Epoch 687 Batch    2/4   train_loss = 1.672\n",
      "Epoch 690 Batch    0/4   train_loss = 1.660\n",
      "Epoch 692 Batch    2/4   train_loss = 1.674\n",
      "Epoch 695 Batch    0/4   train_loss = 1.676\n",
      "Epoch 697 Batch    2/4   train_loss = 1.681\n",
      "Epoch 700 Batch    0/4   train_loss = 1.639\n",
      "Epoch 702 Batch    2/4   train_loss = 1.621\n",
      "Epoch 705 Batch    0/4   train_loss = 1.608\n",
      "Epoch 707 Batch    2/4   train_loss = 1.600\n",
      "Epoch 710 Batch    0/4   train_loss = 1.586\n",
      "Epoch 712 Batch    2/4   train_loss = 1.587\n",
      "Epoch 715 Batch    0/4   train_loss = 1.582\n",
      "Epoch 717 Batch    2/4   train_loss = 1.592\n",
      "Epoch 720 Batch    0/4   train_loss = 1.576\n",
      "Epoch 722 Batch    2/4   train_loss = 1.590\n",
      "Epoch 725 Batch    0/4   train_loss = 1.540\n",
      "Epoch 727 Batch    2/4   train_loss = 1.527\n",
      "Epoch 730 Batch    0/4   train_loss = 1.508\n",
      "Epoch 732 Batch    2/4   train_loss = 1.509\n",
      "Epoch 735 Batch    0/4   train_loss = 1.513\n",
      "Epoch 737 Batch    2/4   train_loss = 1.527\n",
      "Epoch 740 Batch    0/4   train_loss = 1.492\n",
      "Epoch 742 Batch    2/4   train_loss = 1.481\n",
      "Epoch 745 Batch    0/4   train_loss = 1.464\n",
      "Epoch 747 Batch    2/4   train_loss = 1.464\n",
      "Epoch 750 Batch    0/4   train_loss = 1.452\n",
      "Epoch 752 Batch    2/4   train_loss = 1.452\n",
      "Epoch 755 Batch    0/4   train_loss = 1.437\n",
      "Epoch 757 Batch    2/4   train_loss = 1.435\n",
      "Epoch 760 Batch    0/4   train_loss = 1.426\n",
      "Epoch 762 Batch    2/4   train_loss = 1.425\n",
      "Epoch 765 Batch    0/4   train_loss = 1.425\n",
      "Epoch 767 Batch    2/4   train_loss = 1.410\n",
      "Epoch 770 Batch    0/4   train_loss = 1.395\n",
      "Epoch 772 Batch    2/4   train_loss = 1.381\n",
      "Epoch 775 Batch    0/4   train_loss = 1.358\n",
      "Epoch 777 Batch    2/4   train_loss = 1.357\n",
      "Epoch 780 Batch    0/4   train_loss = 1.355\n",
      "Epoch 782 Batch    2/4   train_loss = 1.369\n",
      "Epoch 785 Batch    0/4   train_loss = 1.378\n",
      "Epoch 787 Batch    2/4   train_loss = 1.354\n",
      "Epoch 790 Batch    0/4   train_loss = 1.340\n",
      "Epoch 792 Batch    2/4   train_loss = 1.324\n",
      "Epoch 795 Batch    0/4   train_loss = 1.313\n",
      "Epoch 797 Batch    2/4   train_loss = 1.311\n",
      "Epoch 800 Batch    0/4   train_loss = 1.302\n",
      "Epoch 802 Batch    2/4   train_loss = 1.308\n",
      "Epoch 805 Batch    0/4   train_loss = 1.269\n",
      "Epoch 807 Batch    2/4   train_loss = 1.268\n",
      "Epoch 810 Batch    0/4   train_loss = 1.250\n",
      "Epoch 812 Batch    2/4   train_loss = 1.255\n",
      "Epoch 815 Batch    0/4   train_loss = 1.237\n",
      "Epoch 817 Batch    2/4   train_loss = 1.240\n",
      "Epoch 820 Batch    0/4   train_loss = 1.230\n",
      "Epoch 822 Batch    2/4   train_loss = 1.238\n",
      "Epoch 825 Batch    0/4   train_loss = 1.221\n",
      "Epoch 827 Batch    2/4   train_loss = 1.219\n",
      "Epoch 830 Batch    0/4   train_loss = 1.201\n",
      "Epoch 832 Batch    2/4   train_loss = 1.195\n",
      "Epoch 835 Batch    0/4   train_loss = 1.200\n",
      "Epoch 837 Batch    2/4   train_loss = 1.199\n",
      "Epoch 840 Batch    0/4   train_loss = 1.181\n",
      "Epoch 842 Batch    2/4   train_loss = 1.185\n",
      "Epoch 845 Batch    0/4   train_loss = 1.167\n",
      "Epoch 847 Batch    2/4   train_loss = 1.151\n",
      "Epoch 850 Batch    0/4   train_loss = 1.136\n",
      "Epoch 852 Batch    2/4   train_loss = 1.137\n",
      "Epoch 855 Batch    0/4   train_loss = 1.133\n",
      "Epoch 857 Batch    2/4   train_loss = 1.130\n",
      "Epoch 860 Batch    0/4   train_loss = 1.151\n",
      "Epoch 862 Batch    2/4   train_loss = 1.175\n",
      "Epoch 865 Batch    0/4   train_loss = 1.140\n",
      "Epoch 867 Batch    2/4   train_loss = 1.124\n",
      "Epoch 870 Batch    0/4   train_loss = 1.097\n",
      "Epoch 872 Batch    2/4   train_loss = 1.084\n",
      "Epoch 875 Batch    0/4   train_loss = 1.077\n",
      "Epoch 877 Batch    2/4   train_loss = 1.072\n",
      "Epoch 880 Batch    0/4   train_loss = 1.066\n",
      "Epoch 882 Batch    2/4   train_loss = 1.069\n",
      "Epoch 885 Batch    0/4   train_loss = 1.071\n",
      "Epoch 887 Batch    2/4   train_loss = 1.060\n",
      "Epoch 890 Batch    0/4   train_loss = 1.050\n",
      "Epoch 892 Batch    2/4   train_loss = 1.039\n",
      "Epoch 895 Batch    0/4   train_loss = 1.024\n",
      "Epoch 897 Batch    2/4   train_loss = 1.015\n",
      "Epoch 900 Batch    0/4   train_loss = 1.009\n",
      "Epoch 902 Batch    2/4   train_loss = 1.002\n",
      "Epoch 905 Batch    0/4   train_loss = 0.998\n",
      "Epoch 907 Batch    2/4   train_loss = 0.996\n",
      "Epoch 910 Batch    0/4   train_loss = 1.001\n",
      "Epoch 912 Batch    2/4   train_loss = 1.006\n",
      "Epoch 915 Batch    0/4   train_loss = 0.999\n",
      "Epoch 917 Batch    2/4   train_loss = 0.993\n",
      "Epoch 920 Batch    0/4   train_loss = 0.975\n",
      "Epoch 922 Batch    2/4   train_loss = 0.970\n",
      "Epoch 925 Batch    0/4   train_loss = 0.955\n",
      "Epoch 927 Batch    2/4   train_loss = 0.946\n",
      "Epoch 930 Batch    0/4   train_loss = 0.935\n",
      "Epoch 932 Batch    2/4   train_loss = 0.930\n"
     ]
    },
    {
     "name": "stdout",
     "output_type": "stream",
     "text": [
      "Epoch 935 Batch    0/4   train_loss = 0.932\n",
      "Epoch 937 Batch    2/4   train_loss = 0.951\n",
      "Epoch 940 Batch    0/4   train_loss = 0.949\n",
      "Epoch 942 Batch    2/4   train_loss = 0.963\n",
      "Epoch 945 Batch    0/4   train_loss = 0.931\n",
      "Epoch 947 Batch    2/4   train_loss = 0.938\n",
      "Epoch 950 Batch    0/4   train_loss = 0.927\n",
      "Epoch 952 Batch    2/4   train_loss = 0.899\n",
      "Epoch 955 Batch    0/4   train_loss = 0.880\n",
      "Epoch 957 Batch    2/4   train_loss = 0.878\n",
      "Epoch 960 Batch    0/4   train_loss = 0.873\n",
      "Epoch 962 Batch    2/4   train_loss = 0.874\n",
      "Epoch 965 Batch    0/4   train_loss = 0.888\n",
      "Epoch 967 Batch    2/4   train_loss = 0.896\n",
      "Epoch 970 Batch    0/4   train_loss = 0.867\n",
      "Epoch 972 Batch    2/4   train_loss = 0.870\n",
      "Epoch 975 Batch    0/4   train_loss = 0.864\n",
      "Epoch 977 Batch    2/4   train_loss = 0.851\n",
      "Epoch 980 Batch    0/4   train_loss = 0.836\n",
      "Epoch 982 Batch    2/4   train_loss = 0.836\n",
      "Epoch 985 Batch    0/4   train_loss = 0.837\n",
      "Epoch 987 Batch    2/4   train_loss = 0.832\n",
      "Epoch 990 Batch    0/4   train_loss = 0.824\n",
      "Epoch 992 Batch    2/4   train_loss = 0.832\n",
      "Epoch 995 Batch    0/4   train_loss = 0.827\n",
      "Epoch 997 Batch    2/4   train_loss = 0.812\n",
      "Model Trained and Saved\n"
     ]
    }
   ],
   "source": [
    "\"\"\"\n",
    "DON'T MODIFY ANYTHING IN THIS CELL\n",
    "\"\"\"\n",
    "batches = get_batches(int_text, batch_size, seq_length)\n",
    "\n",
    "with tf.Session(graph=train_graph) as sess:\n",
    "    sess.run(tf.global_variables_initializer())\n",
    "\n",
    "    for epoch_i in range(num_epochs):\n",
    "        state = sess.run(initial_state, {input_text: batches[0][0]})\n",
    "\n",
    "        for batch_i, (x, y) in enumerate(batches):\n",
    "            feed = {\n",
    "                input_text: x,\n",
    "                targets: y,\n",
    "                initial_state: state,\n",
    "                lr: learning_rate}\n",
    "            train_loss, state, _ = sess.run([cost, final_state, train_op], feed)\n",
    "\n",
    "            # Show every <show_every_n_batches> batches\n",
    "            if (epoch_i * len(batches) + batch_i) % show_every_n_batches == 0:\n",
    "                print('Epoch {:>3} Batch {:>4}/{}   train_loss = {:.3f}'.format(\n",
    "                    epoch_i,\n",
    "                    batch_i,\n",
    "                    len(batches),\n",
    "                    train_loss))\n",
    "\n",
    "    # Save Model\n",
    "    saver = tf.train.Saver()\n",
    "    saver.save(sess, save_dir)\n",
    "    print('Model Trained and Saved')"
   ]
  },
  {
   "cell_type": "markdown",
   "metadata": {},
   "source": [
    "## Save Parameters\n",
    "Save `seq_length` and `save_dir` for generating a new TV script."
   ]
  },
  {
   "cell_type": "code",
   "execution_count": 56,
   "metadata": {
    "collapsed": true
   },
   "outputs": [],
   "source": [
    "\"\"\"\n",
    "DON'T MODIFY ANYTHING IN THIS CELL\n",
    "\"\"\"\n",
    "# Save parameters for checkpoint\n",
    "helper.save_params((seq_length, save_dir))"
   ]
  },
  {
   "cell_type": "markdown",
   "metadata": {},
   "source": [
    "# Checkpoint"
   ]
  },
  {
   "cell_type": "code",
   "execution_count": 57,
   "metadata": {
    "collapsed": true
   },
   "outputs": [],
   "source": [
    "\"\"\"\n",
    "DON'T MODIFY ANYTHING IN THIS CELL\n",
    "\"\"\"\n",
    "import tensorflow as tf\n",
    "import numpy as np\n",
    "import helper\n",
    "import problem_unittests as tests\n",
    "\n",
    "_, vocab_to_int, int_to_vocab, token_dict = helper.load_preprocess()\n",
    "seq_length, load_dir = helper.load_params()"
   ]
  },
  {
   "cell_type": "markdown",
   "metadata": {},
   "source": [
    "## Implement Generate Functions\n",
    "### Get Tensors\n",
    "Get tensors from `loaded_graph` using the function [`get_tensor_by_name()`](https://www.tensorflow.org/api_docs/python/tf/Graph#get_tensor_by_name).  Get the tensors using the following names:\n",
    "- \"input:0\"\n",
    "- \"initial_state:0\"\n",
    "- \"final_state:0\"\n",
    "- \"probs:0\"\n",
    "\n",
    "Return the tensors in the following tuple `(InputTensor, InitialStateTensor, FinalStateTensor, ProbsTensor)` "
   ]
  },
  {
   "cell_type": "code",
   "execution_count": 58,
   "metadata": {},
   "outputs": [
    {
     "name": "stdout",
     "output_type": "stream",
     "text": [
      "Tests Passed\n"
     ]
    }
   ],
   "source": [
    "def get_tensors(loaded_graph):\n",
    "    \"\"\"\n",
    "    Get input, initial state, final state, and probabilities tensor from <loaded_graph>\n",
    "    :param loaded_graph: TensorFlow graph loaded from file\n",
    "    :return: Tuple (InputTensor, InitialStateTensor, FinalStateTensor, ProbsTensor)\n",
    "    \"\"\"\n",
    "    # TODO: Implement Function\n",
    "    input_ = loaded_graph.get_tensor_by_name(\"input:0\")\n",
    "    inital_state = loaded_graph.get_tensor_by_name(\"initial_state:0\")\n",
    "    final_state = loaded_graph.get_tensor_by_name(\"final_state:0\")\n",
    "    probs = loaded_graph.get_tensor_by_name(\"probs:0\")\n",
    "    return input_,inital_state,final_state,probs\n",
    "\n",
    "\n",
    "\"\"\"\n",
    "DON'T MODIFY ANYTHING IN THIS CELL THAT IS BELOW THIS LINE\n",
    "\"\"\"\n",
    "tests.test_get_tensors(get_tensors)"
   ]
  },
  {
   "cell_type": "markdown",
   "metadata": {},
   "source": [
    "### Choose Word\n",
    "Implement the `pick_word()` function to select the next word using `probabilities`."
   ]
  },
  {
   "cell_type": "code",
   "execution_count": 59,
   "metadata": {},
   "outputs": [
    {
     "name": "stdout",
     "output_type": "stream",
     "text": [
      "Tests Passed\n"
     ]
    }
   ],
   "source": [
    "def pick_word(probabilities, int_to_vocab):\n",
    "    \"\"\"\n",
    "    Pick the next word in the generated text\n",
    "    :param probabilities: Probabilites of the next word\n",
    "    :param int_to_vocab: Dictionary of word ids as the keys and words as the values\n",
    "    :return: String of the predicted word\n",
    "    \"\"\"\n",
    "    # TODO: Implement Function\n",
    "    return int_to_vocab[probabilities.argmax()]\n",
    "\n",
    "\n",
    "\"\"\"\n",
    "DON'T MODIFY ANYTHING IN THIS CELL THAT IS BELOW THIS LINE\n",
    "\"\"\"\n",
    "tests.test_pick_word(pick_word)"
   ]
  },
  {
   "cell_type": "markdown",
   "metadata": {},
   "source": [
    "## Generate TV Script\n",
    "This will generate the TV script for you.  Set `gen_length` to the length of TV script you want to generate."
   ]
  },
  {
   "cell_type": "code",
   "execution_count": 60,
   "metadata": {},
   "outputs": [
    {
     "name": "stdout",
     "output_type": "stream",
     "text": [
      "INFO:tensorflow:Restoring parameters from ./save\n",
      "moe_szyslak:(into phone) moe's tavern. where the elite meet to drink.\n",
      "bart_simpson: eh, yeah, is. all i gave that old marriage? right! that was a little more cerebral.\n",
      "ned_flanders: no off and this looks like you call it a date, to make out of these winnings.\n",
      "lisa_simpson: be a party was never seen caught up!\n",
      "\n",
      "\n",
      "moe_szyslak: hey, get the power store. the point is, hear me.\n",
      "lenny_leonard: yeah, you won't tell me.\n",
      "\n",
      "\n",
      "homer_simpson: gentlemen.\n",
      "homer_simpson: so homer, the one day, moe. you know what i think we need your face.\n",
      "moe_szyslak:(sobs) i know how about you are so insightful. this is you could drink it?\n",
      "homer_simpson: hey, that's great. and fwooof! we get the best musical in light years.\n",
      "moe_szyslak: you mean it, it would work with the back, homer, i'm not as it\n",
      "kent_brockman: no, i'd like a\".\" i don't want to the other.\n"
     ]
    }
   ],
   "source": [
    "gen_length = 200\n",
    "# homer_simpson, moe_szyslak, or Barney_Gumble\n",
    "prime_word = 'moe_szyslak'\n",
    "\n",
    "\"\"\"\n",
    "DON'T MODIFY ANYTHING IN THIS CELL THAT IS BELOW THIS LINE\n",
    "\"\"\"\n",
    "loaded_graph = tf.Graph()\n",
    "with tf.Session(graph=loaded_graph) as sess:\n",
    "    # Load saved model\n",
    "    loader = tf.train.import_meta_graph(load_dir + '.meta')\n",
    "    loader.restore(sess, load_dir)\n",
    "\n",
    "    # Get Tensors from loaded model\n",
    "    input_text, initial_state, final_state, probs = get_tensors(loaded_graph)\n",
    "\n",
    "    # Sentences generation setup\n",
    "    gen_sentences = [prime_word + ':']\n",
    "    prev_state = sess.run(initial_state, {input_text: np.array([[1]])})\n",
    "\n",
    "    # Generate sentences\n",
    "    for n in range(gen_length):\n",
    "        # Dynamic Input\n",
    "        dyn_input = [[vocab_to_int[word] for word in gen_sentences[-seq_length:]]]\n",
    "        dyn_seq_length = len(dyn_input[0])\n",
    "\n",
    "        # Get Prediction\n",
    "        probabilities, prev_state = sess.run(\n",
    "            [probs, final_state],\n",
    "            {input_text: dyn_input, initial_state: prev_state})\n",
    "        \n",
    "        pred_word = pick_word(probabilities[dyn_seq_length-1], int_to_vocab)\n",
    "\n",
    "        gen_sentences.append(pred_word)\n",
    "    \n",
    "    # Remove tokens\n",
    "    tv_script = ' '.join(gen_sentences)\n",
    "    for key, token in token_dict.items():\n",
    "        ending = ' ' if key in ['\\n', '(', '\"'] else ''\n",
    "        tv_script = tv_script.replace(' ' + token.lower(), key)\n",
    "    tv_script = tv_script.replace('\\n ', '\\n')\n",
    "    tv_script = tv_script.replace('( ', '(')\n",
    "        \n",
    "    print(tv_script)"
   ]
  },
  {
   "cell_type": "markdown",
   "metadata": {},
   "source": [
    "# The TV Script is Nonsensical\n",
    "It's ok if the TV script doesn't make any sense.  We trained on less than a megabyte of text.  In order to get good results, you'll have to use a smaller vocabulary or get more data.  Luckly there's more data!  As we mentioned in the begging of this project, this is a subset of [another dataset](https://www.kaggle.com/wcukierski/the-simpsons-by-the-data).  We didn't have you train on all the data, because that would take too long.  However, you are free to train your neural network on all the data.  After you complete the project, of course.\n",
    "# Submitting This Project\n",
    "When submitting this project, make sure to run all the cells before saving the notebook. Save the notebook file as \"dlnd_tv_script_generation.ipynb\" and save it as a HTML file under \"File\" -> \"Download as\". Include the \"helper.py\" and \"problem_unittests.py\" files in your submission."
   ]
  }
 ],
 "metadata": {
  "kernelspec": {
   "display_name": "Python 3",
   "language": "python",
   "name": "python3"
  },
  "language_info": {
   "codemirror_mode": {
    "name": "ipython",
    "version": 3
   },
   "file_extension": ".py",
   "mimetype": "text/x-python",
   "name": "python",
   "nbconvert_exporter": "python",
   "pygments_lexer": "ipython3",
   "version": "3.5.3"
  },
  "widgets": {
   "state": {},
   "version": "1.1.2"
  }
 },
 "nbformat": 4,
 "nbformat_minor": 1
}
